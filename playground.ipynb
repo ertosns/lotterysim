{
 "cells": [
  {
   "cell_type": "code",
   "execution_count": 1,
   "id": "c0e2a42d",
   "metadata": {},
   "outputs": [],
   "source": [
    "from lottery import *\n",
    "from threading import Thread\n",
    "from pid import *\n",
    "import os"
   ]
  },
  {
   "cell_type": "markdown",
   "id": "9c6c8b3b",
   "metadata": {},
   "source": [
    "# controller gains search space simulation.  "
   ]
  },
  {
   "cell_type": "markdown",
   "id": "d9f60289",
   "metadata": {},
   "source": [
    "## simulation parameters"
   ]
  },
  {
   "cell_type": "code",
   "execution_count": 2,
   "id": "e8d1d219",
   "metadata": {},
   "outputs": [],
   "source": [
    "AVG_LEN = 5\n",
    "\n",
    "KP_STEP=0.05\n",
    "KP_SEARCH_START=-0.1\n",
    "KP_SEARCH_END=0.3\n",
    "\n",
    "KI_STEP=0.05\n",
    "KI_SEARCH_START=-0.1\n",
    "KI_SEARCH_END=0.1\n",
    "\n",
    "KD_STEP=0.05\n",
    "KD_SEARCH_START=-0.2\n",
    "KD_SEARCH_END=0.1\n",
    "\n",
    "EPSILON=0.0001\n",
    "RUNNING_TIME=1000\n",
    "\n",
    "#AIRDROP=1000\n",
    "NODES=100000"
   ]
  },
  {
   "cell_type": "code",
   "execution_count": 6,
   "id": "2077a7de",
   "metadata": {},
   "outputs": [
    {
     "name": "stdout",
     "output_type": "stream",
     "text": [
      "randomize number of nodes (y/n):y\n",
      "random running time (y/n):y\n",
      "debug mode (y/n):n\n"
     ]
    }
   ],
   "source": [
    "randomize_nodes_str = input(\"randomize number of nodes (y/n):\")\n",
    "randomize_nodes = True if randomize_nodes_str.lower()==\"y\" else False\n",
    "\n",
    "rand_running_time_str = input(\"random running time (y/n):\")\n",
    "rand_running_time = True if rand_running_time_str.lower()==\"y\" else False\n",
    "\n",
    "debug_str = input(\"debug mode (y/n):\")\n",
    "debug = True if debug_str.lower()==\"y\" else False"
   ]
  },
  {
   "cell_type": "code",
   "execution_count": 10,
   "id": "993ee58c",
   "metadata": {},
   "outputs": [],
   "source": [
    "def experiment(accs, controller_type=CONTROLLER_TYPE_DISCRETE, kp=0, ki=0, kd=0, airdrop=0):\n",
    "    dt = DarkfiTable(0, RUNNING_TIME, controller_type, kp=kp, ki=ki, kd=kd)\n",
    "    RND_NODES = random.randint(5, NODES) if randomize_nodes else NODES\n",
    "    for idx in range(0,RND_NODES):\n",
    "        darkie = Darkie(airdrop)\n",
    "        dt.add_darkie(darkie)\n",
    "    acc = dt.background(rand_running_time)\n",
    "    accs+=[acc]\n",
    "    return acc"
   ]
  },
  {
   "cell_type": "markdown",
   "id": "01c8be07",
   "metadata": {},
   "source": [
    "## note! skip the cell below, it will take many hours, and large space dpending on the search space range above."
   ]
  },
  {
   "cell_type": "code",
   "execution_count": null,
   "id": "a029c3c0",
   "metadata": {},
   "outputs": [
    {
     "name": "stderr",
     "output_type": "stream",
     "text": [
      "\r",
      "  0%|                                                                                                                                                                                       | 0/4 [00:00<?, ?it/s]"
     ]
    },
    {
     "name": "stdout",
     "output_type": "stream",
     "text": [
      "random running time: 906\n",
      "random running time: 579\n",
      "random running time: 283\n",
      "random running time: 869\n",
      "random running time: 946\n",
      "random running time: 727\n",
      "random running time: 256\n",
      "random running time: 144\n",
      "random running time: 297\n",
      "random running time: 310\n",
      "random running time: 557\n",
      "random running time: 10\n",
      "random running time: 753\n",
      "random running time: 958\n",
      "random running time: 608\n",
      "random running time: 531\n",
      "random running time: 968\n",
      "random running time: 44\n",
      "random running time: 418\n",
      "random running time: 268\n",
      "random running time: 849\n",
      "random running time: 844\n",
      "random running time: 304\n",
      "random running time: 745\n",
      "random running time: 160\n",
      "random running time: 891\n",
      "random running time: 625\n",
      "random running time: 452\n",
      "random running time: 349\n",
      "random running time: 186\n",
      "random running time: 877\n",
      "random running time: 897\n",
      "random running time: 722\n",
      "random running time: 691\n",
      "random running time: 969\n",
      "random running time: 350\n",
      "random running time: 824\n",
      "random running time: 52\n",
      "random running time: 418\n",
      "random running time: 233\n",
      "random running time: 625\n",
      "random running time: 756\n",
      "random running time: 170\n",
      "random running time: 871\n",
      "random running time: 713\n",
      "random running time: 119\n",
      "random running time: 587\n",
      "random running time: 974\n",
      "random running time: 154\n",
      "random running time: 375\n"
     ]
    }
   ],
   "source": [
    "accuracy = []\n",
    "if __name__ == \"__main__\":\n",
    "    # kp\n",
    "    for kp in tqdm(np.arange(KP_SEARCH_START, KP_SEARCH_END, KP_STEP)):\n",
    "        # ki\n",
    "        for ki in np.arange(KI_SEARCH_START, KI_SEARCH_END, KI_STEP):\n",
    "            # kd\n",
    "            for kd in np.arange(KD_SEARCH_START, KD_SEARCH_END, KD_STEP):\n",
    "                target = 1\n",
    "                experiment_accs = []\n",
    "                exp_threads = []\n",
    "                for i in range(0, AVG_LEN):\n",
    "                    exp_thread = Thread(target=experiment, args=[experiment_accs, CONTROLLER_TYPE_DISCRETE, kp, ki, kd])\n",
    "                    exp_thread.start()\n",
    "                for thread in exp_threads:\n",
    "                    thread.join()\n",
    "                avg_acc = sum(experiment_accs)/float(AVG_LEN)\n",
    "                gains = (avg_acc, (kp, ki, kd))\n",
    "                accuracy+=[gains]\n",
    "    accuracy=sorted(accuracy, key=lambda i: i[0], reverse=True)\n",
    "    with open(\"gains.txt\", \"w\") as f:\n",
    "        buff=''\n",
    "        for gain in accuracy:\n",
    "            line=str(gain[0])+',' +','.join([str(i) for i in gain[1]])+'\\n'\n",
    "            buff+=line\n",
    "            f.write(buff)\n"
   ]
  },
  {
   "cell_type": "markdown",
   "id": "caf6731c",
   "metadata": {},
   "source": [
    "# controller parameters results\n"
   ]
  },
  {
   "cell_type": "markdown",
   "id": "beff0f57",
   "metadata": {},
   "source": [
    "the controller results shows that optimal gains are as follows:\n",
    "kp=0.18, ki=0.02, kd=-0.1,"
   ]
  },
  {
   "cell_type": "code",
   "execution_count": 3,
   "id": "45e85da8",
   "metadata": {},
   "outputs": [],
   "source": [
    "def instance(kp, ki, kd, nodes, initial_distribution):\n",
    "    os.system(\"rm f.hist; rm leads.hist\")\n",
    "    RUNNING_TIME = int(input(\"running time (slots):\"))\n",
    "\n",
    "    if __name__ == \"__main__\":\n",
    "        darkies = []\n",
    "        darkies += [Darkie(initial_distribution[id]) for id in range(nodes)]\n",
    "        airdrop = 0\n",
    "        for darkie in darkies:\n",
    "            airdrop+=darkie.stake\n",
    "        print(\"network airdrop: {} on {} nodes\".format(airdrop, len(darkies)))\n",
    "        dt = DarkfiTable(airdrop, RUNNING_TIME, CONTROLLER_TYPE_DISCRETE, kp=kp, ki=ki, kd=kd)\n",
    "        for darkie in darkies:\n",
    "            dt.add_darkie(darkie)\n",
    "        dt.background(rand_running_time=False)\n",
    "        dt.write()\n"
   ]
  },
  {
   "cell_type": "markdown",
   "id": "0dd77352",
   "metadata": {},
   "source": [
    "# run lottery instance"
   ]
  },
  {
   "cell_type": "code",
   "execution_count": 4,
   "id": "78372ae6",
   "metadata": {},
   "outputs": [],
   "source": [
    "def draw():\n",
    "    LEAD_FILE = \"leads.hist\"\n",
    "    F_FILE = \"f.hist\"\n",
    "\n",
    "    LEAD_PROCESSED_IMG = \"lead_history_processed.png\"\n",
    "    F_PROCESSED_IMG = \"f_history_processed.png\"\n",
    "\n",
    "    SEP = \",\"\n",
    "    NODES = 5 # nuber of nodes logged\n",
    "\n",
    "    with open(LEAD_FILE) as f:\n",
    "        buf = f.read()\n",
    "        nodes = buf.split(SEP)[:-1]\n",
    "        node_log = []\n",
    "        for i in range(0, len(nodes)):\n",
    "            node_log+=[int(nodes[i])]\n",
    "        freq_single_lead = sum(np.array(node_log)==1)/float(len(node_log))\n",
    "        print(\"single leader frequency: {}\".format(freq_single_lead))\n",
    "        plt.plot(node_log)\n",
    "        plt.legend(['#leads'])\n",
    "        plt.savefig(LEAD_PROCESSED_IMG)\n",
    "\n",
    "\n",
    "    with open(F_FILE) as f:\n",
    "        buf = f.read()\n",
    "        nodes = buf.split(SEP)[:-1]\n",
    "        node_log = []\n",
    "        for i in range(0, len(nodes)):\n",
    "            node_log+=[float(nodes[i])]\n",
    "        plt.plot(node_log)\n",
    "        plt.legend(['#leads', 'f'])\n",
    "        plt.savefig(F_PROCESSED_IMG)"
   ]
  },
  {
   "cell_type": "code",
   "execution_count": 21,
   "id": "13bf6835",
   "metadata": {},
   "outputs": [
    {
     "name": "stdout",
     "output_type": "stream",
     "text": [
      "running time (slots):1000\n",
      "network airdrop: 1000 on 1000 nodes\n",
      "single leader frequency: 0.0\n"
     ]
    },
    {
     "data": {
      "image/png": "[encoded data removed]",
      "text/plain": [
       "<Figure size 640x480 with 1 Axes>"
      ]
     },
     "metadata": {},
     "output_type": "display_data"
    }
   ],
   "source": [
    "nodes = 1000\n",
    "# stakers intial distribution\n",
    "genesis_distribution = [0 for _ in range(nodes)]\n",
    "genesis_distribution[0] = 1000\n",
    "# using simulation output\n",
    "kp=0.18\n",
    "ki=0.02\n",
    "kd=-0.1\n",
    "instance(kp, ki, kd, nodes, genesis_distribution)\n",
    "draw()"
   ]
  },
  {
   "cell_type": "code",
   "execution_count": null,
   "id": "77e3a408",
   "metadata": {},
   "outputs": [],
   "source": []
  },
  {
   "cell_type": "code",
   "execution_count": null,
   "id": "76693b9d",
   "metadata": {},
   "outputs": [],
   "source": []
  }
 ],
 "metadata": {
  "kernelspec": {
   "display_name": "Python 3 (ipykernel)",
   "language": "python",
   "name": "python3"
  },
  "language_info": {
   "codemirror_mode": {
    "name": "ipython",
    "version": 3
   },
   "file_extension": ".py",
   "mimetype": "text/x-python",
   "name": "python",
   "nbconvert_exporter": "python",
   "pygments_lexer": "ipython3",
   "version": "3.10.9"
  }
 },
 "nbformat": 4,
 "nbformat_minor": 5
}
