{
 "cells": [
  {
   "cell_type": "code",
   "execution_count": null,
   "id": "c0e2a42d",
   "metadata": {},
   "outputs": [],
   "source": [
    "from lottery import *\n",
    "from threading import Thread\n",
    "from pid import *\n",
    "import os"
   ]
  },
  {
   "cell_type": "markdown",
   "id": "9c6c8b3b",
   "metadata": {},
   "source": [
    "# controller gains search space simulation.  "
   ]
  },
  {
   "cell_type": "markdown",
   "id": "414e5569",
   "metadata": {},
   "source": [
    "crawler converges fast towrds highest accuracy, here is how it works:\n",
    "## for all controller N pramaters:\n",
    "* start with some hueristic state $s_i | 0 < i <= N$ \n",
    "* look on the right, and left of s at random, within certain dynamic range, and step size that are changed every loop to either zoom in/out to converge fast as possible, and avoid getting stuck in local minima/maxima.\n",
    "* if new record is hit, or range is exhusted, move to new next controller parameter/dimension state $s_{i+1}$.\n",
    "* if a loop went by without hitting any new record (high controller accuracy), search space is scrutinized with smaller step, and larger space around $s_i$ in next round.\n",
    "* otherwise space range is decreased, and step is increased."
   ]
  },
  {
   "cell_type": "markdown",
   "id": "49dc7d66",
   "metadata": {},
   "source": [
    "## auto crawler discrete controller"
   ]
  },
  {
   "cell_type": "code",
   "execution_count": null,
   "id": "38e77bc3",
   "metadata": {},
   "outputs": [],
   "source": [
    "!python auto_crawler.py"
   ]
  },
  {
   "cell_type": "code",
   "execution_count": null,
   "id": "10a81f04",
   "metadata": {},
   "outputs": [],
   "source": [
    "!cat highest_gain.txt "
   ]
  },
  {
   "cell_type": "markdown",
   "id": "d2fc307d",
   "metadata": {},
   "source": [
    "## auto crawler takahashi controller"
   ]
  },
  {
   "cell_type": "code",
   "execution_count": null,
   "id": "6baf77e9",
   "metadata": {},
   "outputs": [],
   "source": [
    "!python auto_crawler_takahashi.py"
   ]
  },
  {
   "cell_type": "code",
   "execution_count": null,
   "id": "3f55d753",
   "metadata": {},
   "outputs": [],
   "source": [
    "!cat highest_gain_takahashi.txt"
   ]
  },
  {
   "cell_type": "markdown",
   "id": "caf6731c",
   "metadata": {},
   "source": [
    "# controller parameters results\n"
   ]
  },
  {
   "cell_type": "markdown",
   "id": "beff0f57",
   "metadata": {},
   "source": [
    "the controller results shows that optimal gains are as follows: accuracy:0.7568862275449102, kp: -0.03999999999998902, ki:-0.005999999985257798, kd:0.01299999999999478\n"
   ]
  },
  {
   "cell_type": "code",
   "execution_count": null,
   "id": "45e85da8",
   "metadata": {},
   "outputs": [],
   "source": [
    "def vesting_instance(kp, ki, kd, initial_distribution, vesting):\n",
    "    os.system(\"rm f.hist; rm leads.hist\")\n",
    "    RUNNING_TIME = len(next(iter(vesting.values())))*28800\n",
    "\n",
    "    if __name__ == \"__main__\":\n",
    "        darkies = []\n",
    "        id = 0\n",
    "        for name, distrib in vesting.items():\n",
    "            darkies += [Darkie(initial_distribution[id], vesting=distrib)]\n",
    "            id+=1\n",
    "        airdrop = 0\n",
    "        for darkie in darkies:\n",
    "            airdrop+=darkie.stake\n",
    "        print(\"network airdrop: {} on {} nodes\".format(airdrop, len(darkies)))\n",
    "        dt = DarkfiTable(airdrop, RUNNING_TIME)\n",
    "        for darkie in darkies:\n",
    "            dt.add_darkie(darkie)\n",
    "        dt.background(rand_running_time=False)\n",
    "        dt.write()"
   ]
  },
  {
   "cell_type": "markdown",
   "id": "0dd77352",
   "metadata": {},
   "source": [
    "# run lottery instance"
   ]
  },
  {
   "cell_type": "code",
   "execution_count": null,
   "id": "78372ae6",
   "metadata": {},
   "outputs": [],
   "source": [
    "def draw():\n",
    "    LEAD_FILE = \"leads.hist\"\n",
    "    F_FILE = \"f.hist\"\n",
    "\n",
    "    LEAD_PROCESSED_IMG = \"lead_history_processed.png\"\n",
    "    F_PROCESSED_IMG = \"f_history_processed.png\"\n",
    "\n",
    "    SEP = \",\"\n",
    "    NODES = 5 # nuber of nodes logged\n",
    "\n",
    "    with open(LEAD_FILE) as f:\n",
    "        buf = f.read()\n",
    "        nodes = buf.split(SEP)[:-1]\n",
    "        node_log = []\n",
    "        for i in range(0, len(nodes)):\n",
    "            node_log+=[int(nodes[i])]\n",
    "        freq_single_lead = sum(np.array(node_log)==1)/float(len(node_log))\n",
    "        print(\"single leader frequency: {}\".format(freq_single_lead))\n",
    "        plt.plot(node_log)\n",
    "        plt.legend(['#leads'])\n",
    "        plt.savefig(LEAD_PROCESSED_IMG)\n",
    "\n",
    "\n",
    "    with open(F_FILE) as f:\n",
    "        buf = f.read()\n",
    "        nodes = buf.split(SEP)[:-1]\n",
    "        node_log = []\n",
    "        for i in range(0, len(nodes)):\n",
    "            node_log+=[float(nodes[i])]\n",
    "        plt.plot(node_log)\n",
    "        plt.legend(['#leads', 'f'])\n",
    "        plt.savefig(F_PROCESSED_IMG)"
   ]
  },
  {
   "cell_type": "code",
   "execution_count": null,
   "id": "d83e8a1f",
   "metadata": {},
   "outputs": [],
   "source": [
    "vesting = {}\n",
    "with open('vested_distribution.csv') as f:\n",
    "    for node  in f.readlines():\n",
    "        keyval = node.split(',')\n",
    "        key = keyval[0]\n",
    "        val = ','.join(keyval[1:])\n",
    "        vesting[keyval[0]] = eval(eval(val))"
   ]
  },
  {
   "cell_type": "code",
   "execution_count": null,
   "id": "1741af9b",
   "metadata": {},
   "outputs": [],
   "source": [
    "nodes = len(vesting)\n",
    "# stakers intial distribution\n",
    "genesis_distribution = [1 for _ in range(nodes)]\n",
    "# using simulation output\n",
    "kp=-0.03999999999998902\n",
    "ki=-0.005999999985257798\n",
    "kd=0.01299999999999478\n",
    "vesting_instance(kp, ki, kd,  genesis_distribution, vesting)\n",
    "draw()"
   ]
  },
  {
   "cell_type": "markdown",
   "id": "571219cb",
   "metadata": {},
   "source": [
    "#### "
   ]
  }
 ],
 "metadata": {
  "kernelspec": {
   "display_name": "Python 3 (ipykernel)",
   "language": "python",
   "name": "python3"
  },
  "language_info": {
   "codemirror_mode": {
    "name": "ipython",
    "version": 3
   },
   "file_extension": ".py",
   "mimetype": "text/x-python",
   "name": "python",
   "nbconvert_exporter": "python",
   "pygments_lexer": "ipython3",
   "version": "3.10.9"
  }
 },
 "nbformat": 4,
 "nbformat_minor": 5
}
